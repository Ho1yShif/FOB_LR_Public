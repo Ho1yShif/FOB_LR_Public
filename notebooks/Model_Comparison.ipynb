{
 "cells": [
  {
   "cell_type": "markdown",
   "id": "59aa3295",
   "metadata": {
    "tags": []
   },
   "source": [
    "# Model Comparison\n",
    "Scikit Learn Models:\n",
    "- Logistic Regression\n",
    "- Support Vector Machines\n",
    "  - Linear and Non-Linear\n",
    "- Naive Bayes\n",
    "- Random Forest <br>\n",
    "- KNN"
   ]
  },
  {
   "cell_type": "markdown",
   "id": "19ec0d84",
   "metadata": {},
   "source": [
    "## Setup and Library Imports"
   ]
  },
  {
   "cell_type": "code",
   "execution_count": 86,
   "id": "10519775",
   "metadata": {},
   "outputs": [],
   "source": [
    "import sys\n",
    "import pandas as pd\n",
    "from pandas import DataFrame\n",
    "import numpy as np\n",
    "import matplotlib\n",
    "from matplotlib import pyplot as plt\n",
    "%matplotlib inline"
   ]
  },
  {
   "cell_type": "code",
   "execution_count": 87,
   "id": "db85b9be-ae41-4bfb-b92b-835a91595d0f",
   "metadata": {},
   "outputs": [],
   "source": [
    "from sklearn.model_selection import train_test_split\n",
    "from sklearn.model_selection import GridSearchCV\n",
    "from sklearn.linear_model import LogisticRegression\n",
    "from sklearn.svm import SVC\n",
    "from sklearn.svm import LinearSVC\n",
    "from sklearn.naive_bayes import GaussianNB\n",
    "from sklearn.ensemble import RandomForestClassifier\n",
    "from sklearn.neighbors import KNeighborsClassifier"
   ]
  },
  {
   "cell_type": "code",
   "execution_count": 88,
   "id": "ab26e8f3-0a4d-4e6e-b8f5-709d00110c04",
   "metadata": {},
   "outputs": [],
   "source": [
    "# Import Logistic Regression class from models/LR.py\n",
    "sys.path.insert(0, 'models')\n",
    "from LR import ScratchLogisticRegression"
   ]
  },
  {
   "cell_type": "code",
   "execution_count": 89,
   "id": "61684323-13a5-4e67-925a-b6fbc6d5f0a8",
   "metadata": {},
   "outputs": [],
   "source": [
    "from sklearn.metrics import accuracy_score\n",
    "from sklearn.metrics import f1_score\n",
    "from sklearn.metrics import precision_score\n",
    "from sklearn.metrics import recall_score"
   ]
  },
  {
   "cell_type": "code",
   "execution_count": 90,
   "id": "95a59bef",
   "metadata": {},
   "outputs": [],
   "source": [
    "# Display entire dataframe\n",
    "pd.set_option('display.max_rows', None)\n",
    "pd.set_option('display.max_columns', None)\n",
    "pd.set_option('display.width', None)"
   ]
  },
  {
   "cell_type": "markdown",
   "id": "274a132e-3cc5-41fa-91ea-1f523e5b353d",
   "metadata": {},
   "source": [
    "### Load Data"
   ]
  },
  {
   "cell_type": "code",
   "execution_count": 91,
   "id": "4bce1f0a-051c-4446-8e81-2199116506ca",
   "metadata": {
    "tags": []
   },
   "outputs": [
    {
     "data": {
      "text/html": [
       "<div>\n",
       "<style scoped>\n",
       "    .dataframe tbody tr th:only-of-type {\n",
       "        vertical-align: middle;\n",
       "    }\n",
       "\n",
       "    .dataframe tbody tr th {\n",
       "        vertical-align: top;\n",
       "    }\n",
       "\n",
       "    .dataframe thead th {\n",
       "        text-align: right;\n",
       "    }\n",
       "</style>\n",
       "<table border=\"1\" class=\"dataframe\">\n",
       "  <thead>\n",
       "    <tr style=\"text-align: right;\">\n",
       "      <th></th>\n",
       "      <th>danceability</th>\n",
       "      <th>instrumentalness</th>\n",
       "      <th>total_words</th>\n",
       "      <th>mode</th>\n",
       "      <th>key_6</th>\n",
       "      <th>key_9</th>\n",
       "      <th>key_10</th>\n",
       "      <th>key_11</th>\n",
       "      <th>class</th>\n",
       "    </tr>\n",
       "  </thead>\n",
       "  <tbody>\n",
       "    <tr>\n",
       "      <th>0</th>\n",
       "      <td>0.384</td>\n",
       "      <td>0.000000</td>\n",
       "      <td>0.218094</td>\n",
       "      <td>1.0</td>\n",
       "      <td>0.0</td>\n",
       "      <td>0.0</td>\n",
       "      <td>0.0</td>\n",
       "      <td>0.0</td>\n",
       "      <td>0.0</td>\n",
       "    </tr>\n",
       "    <tr>\n",
       "      <th>1</th>\n",
       "      <td>0.338</td>\n",
       "      <td>0.000251</td>\n",
       "      <td>0.360258</td>\n",
       "      <td>1.0</td>\n",
       "      <td>0.0</td>\n",
       "      <td>1.0</td>\n",
       "      <td>0.0</td>\n",
       "      <td>0.0</td>\n",
       "      <td>0.0</td>\n",
       "    </tr>\n",
       "    <tr>\n",
       "      <th>2</th>\n",
       "      <td>0.374</td>\n",
       "      <td>0.000003</td>\n",
       "      <td>0.159935</td>\n",
       "      <td>1.0</td>\n",
       "      <td>0.0</td>\n",
       "      <td>0.0</td>\n",
       "      <td>0.0</td>\n",
       "      <td>1.0</td>\n",
       "      <td>0.0</td>\n",
       "    </tr>\n",
       "    <tr>\n",
       "      <th>3</th>\n",
       "      <td>0.430</td>\n",
       "      <td>0.000000</td>\n",
       "      <td>0.295638</td>\n",
       "      <td>1.0</td>\n",
       "      <td>0.0</td>\n",
       "      <td>1.0</td>\n",
       "      <td>0.0</td>\n",
       "      <td>0.0</td>\n",
       "      <td>0.0</td>\n",
       "    </tr>\n",
       "    <tr>\n",
       "      <th>4</th>\n",
       "      <td>0.291</td>\n",
       "      <td>0.000000</td>\n",
       "      <td>0.174475</td>\n",
       "      <td>1.0</td>\n",
       "      <td>0.0</td>\n",
       "      <td>0.0</td>\n",
       "      <td>0.0</td>\n",
       "      <td>0.0</td>\n",
       "      <td>0.0</td>\n",
       "    </tr>\n",
       "  </tbody>\n",
       "</table>\n",
       "</div>"
      ],
      "text/plain": [
       "   danceability  instrumentalness  total_words  mode  key_6  key_9  key_10  \\\n",
       "0         0.384          0.000000     0.218094   1.0    0.0    0.0     0.0   \n",
       "1         0.338          0.000251     0.360258   1.0    0.0    1.0     0.0   \n",
       "2         0.374          0.000003     0.159935   1.0    0.0    0.0     0.0   \n",
       "3         0.430          0.000000     0.295638   1.0    0.0    1.0     0.0   \n",
       "4         0.291          0.000000     0.174475   1.0    0.0    0.0     0.0   \n",
       "\n",
       "   key_11  class  \n",
       "0     0.0    0.0  \n",
       "1     0.0    0.0  \n",
       "2     1.0    0.0  \n",
       "3     0.0    0.0  \n",
       "4     0.0    0.0  "
      ]
     },
     "execution_count": 91,
     "metadata": {},
     "output_type": "execute_result"
    }
   ],
   "source": [
    "features = pd.read_csv('data/processed/features_encoded.csv', index_col=0)\n",
    "features.head()"
   ]
  },
  {
   "cell_type": "markdown",
   "id": "143d2429-64f1-4146-a6a3-b6e0cb266036",
   "metadata": {},
   "source": [
    "### Split Data"
   ]
  },
  {
   "cell_type": "code",
   "execution_count": 92,
   "id": "da328cd4-025c-466d-8132-d380877bb5b0",
   "metadata": {},
   "outputs": [],
   "source": [
    "y = features.pop('class')"
   ]
  },
  {
   "cell_type": "code",
   "execution_count": 93,
   "id": "0f3ceae4-c0a4-4244-8088-a6b48fa59e48",
   "metadata": {},
   "outputs": [
    {
     "data": {
      "text/plain": [
       "45    0.0\n",
       "60    0.0\n",
       "7     0.0\n",
       "51    0.0\n",
       "66    0.0\n",
       "Name: class, dtype: float64"
      ]
     },
     "execution_count": 93,
     "metadata": {},
     "output_type": "execute_result"
    }
   ],
   "source": [
    "X_train, X_test, y_train, y_test = train_test_split(features, y, test_size=0.3, random_state=0)\n",
    "y_test[:5]"
   ]
  },
  {
   "cell_type": "markdown",
   "id": "fd0d6d17-8895-47ee-9c7e-61cb57216727",
   "metadata": {},
   "source": [
    "### Create Search Spaces\n",
    "Each model type requires its own search space"
   ]
  },
  {
   "cell_type": "code",
   "execution_count": 94,
   "id": "2515a005-730c-4bdf-9729-9c039aa82fdc",
   "metadata": {},
   "outputs": [],
   "source": [
    "estimators = [LogisticRegression(), SVC(), LinearSVC(), GaussianNB(),\n",
    "\t\t\tRandomForestClassifier(), KNeighborsClassifier()]"
   ]
  },
  {
   "cell_type": "code",
   "execution_count": 95,
   "id": "5bb1619f-0f70-492f-bda1-416b81aa3971",
   "metadata": {},
   "outputs": [],
   "source": [
    "lr_space = {}\n",
    "lr_space['random_state'] = [0]\n",
    "lr_space['max_iter'] = [50000]\n",
    "lr_space['penalty'] = [\"l1\",\"l2\"]\n",
    "lr_space['C'] = np.logspace(-3,3,7)\n",
    "lr_space['solver'] = ['liblinear', 'saga']"
   ]
  },
  {
   "cell_type": "code",
   "execution_count": 96,
   "id": "c1e7e3ff-1b7f-4fc2-8c06-70fddf4fc61c",
   "metadata": {},
   "outputs": [],
   "source": [
    "svm_space = {}\n",
    "svm_space['random_state'] = [0]\n",
    "svm_space['max_iter'] = [20000]\n",
    "svm_space['C'] = [1e-5, 1e-4, 1e-3, 1e-2, 1e-1, 1, 10, 100]\n",
    "svm_space['gamma']: [1,0.1,0.01,0.001]\n",
    "svm_space['kernel']: ['rbf', 'poly', 'sigmoid']"
   ]
  },
  {
   "cell_type": "code",
   "execution_count": 97,
   "id": "7a997844-a208-4095-9901-bfce0c26da7a",
   "metadata": {},
   "outputs": [],
   "source": [
    "nb_space = {'var_smoothing': np.logspace(0,-9, num=100)}"
   ]
  },
  {
   "cell_type": "code",
   "execution_count": 98,
   "id": "7d9ad292-82d2-4ddc-b004-a15494092918",
   "metadata": {},
   "outputs": [],
   "source": [
    "rfc_space = {'bootstrap': [True, False],\n",
    " 'max_depth': [10, 20, 30, 40, 50, 60, 70, 80, 90, 100, None],\n",
    " 'min_samples_leaf': [1, 2, 4],\n",
    " 'min_samples_split': [2, 5, 10],\n",
    " 'n_estimators': [200, 400, 600, 800, 1000, 1200, 1400, 1600, 1800, 2000],\n",
    " 'random_state': [0]\n",
    "}"
   ]
  },
  {
   "cell_type": "code",
   "execution_count": 99,
   "id": "6d94c48e-9b90-4c17-a3ca-11901a747877",
   "metadata": {},
   "outputs": [],
   "source": [
    "knn_space = {'n_neighbors': range(3, 19, 2),\n",
    " 'weights': ['uniform', 'distance'],\n",
    " 'metric': ['euclidean', 'manhattan']\n",
    "}"
   ]
  },
  {
   "cell_type": "code",
   "execution_count": 100,
   "id": "de5a4840-1efd-4913-9d46-a8907209f204",
   "metadata": {},
   "outputs": [],
   "source": [
    "spaces = {\n",
    "\t'LogisticRegression()': lr_space,\n",
    "\t'SVC()': svm_space, 'LinearSVC()': svm_space,\n",
    "\t'GaussianNB()': nb_space,\n",
    "\t'RandomForestClassifier()': rfc_space,\n",
    "\t'KNeighborsClassifier()': knn_space\n",
    "}"
   ]
  },
  {
   "cell_type": "markdown",
   "id": "9c04f8fe-a2c5-40c7-a201-f7917e6f9fec",
   "metadata": {},
   "source": [
    "### Perform Grid Search\n",
    "Skip this section when trying to run the notebook quickly; takes a while"
   ]
  },
  {
   "cell_type": "code",
   "execution_count": 101,
   "id": "4fd1563e-44f8-495b-87f1-8190f85c5a1c",
   "metadata": {},
   "outputs": [],
   "source": [
    "scores, params = [], []"
   ]
  },
  {
   "cell_type": "code",
   "execution_count": 102,
   "id": "547a6ed8-adf0-4071-b128-96982869df85",
   "metadata": {},
   "outputs": [
    {
     "name": "stderr",
     "output_type": "stream",
     "text": [
      "/Library/Frameworks/Python.framework/Versions/3.10/lib/python3.10/site-packages/sklearn/svm/_base.py:1225: ConvergenceWarning: Liblinear failed to converge, increase the number of iterations.\n",
      "  warnings.warn(\n",
      "/Library/Frameworks/Python.framework/Versions/3.10/lib/python3.10/site-packages/sklearn/svm/_base.py:1225: ConvergenceWarning: Liblinear failed to converge, increase the number of iterations.\n",
      "  warnings.warn(\n"
     ]
    },
    {
     "name": "stdout",
     "output_type": "stream",
     "text": [
      "Finished searching LogisticRegression()\n",
      "Finished searching SVC()\n",
      "Finished searching LinearSVC()\n",
      "Finished searching GaussianNB()\n",
      "Finished searching RandomForestClassifier()\n",
      "Finished searching KNeighborsClassifier()\n"
     ]
    }
   ],
   "source": [
    "for model in estimators:\n",
    "\tname = str(model)\n",
    "\tsearch = GridSearchCV(model, spaces[name], scoring='f1',\n",
    "\t\t\t\t\t\t  error_score='raise', cv=3, n_jobs=-1).fit(X_train, y_train)\n",
    "\tscores.append(search.best_score_)\n",
    "\tparams.append(str(search.best_params_))\n",
    "\tprint(f'Finished searching {name}')"
   ]
  },
  {
   "cell_type": "markdown",
   "id": "d8bc487c-cf69-45c9-9809-f7a41a57e39b",
   "metadata": {},
   "source": [
    "### GridSearch Results"
   ]
  },
  {
   "cell_type": "code",
   "execution_count": 103,
   "id": "bd7acaae-42c7-4a3b-a4be-f8d89f02c7a9",
   "metadata": {},
   "outputs": [],
   "source": [
    "search_results = DataFrame({'model': estimators, 'F1': scores, 'params': params})"
   ]
  },
  {
   "cell_type": "code",
   "execution_count": 104,
   "id": "10a37eea-bbeb-4ed1-b3eb-66379d2833c9",
   "metadata": {},
   "outputs": [
    {
     "data": {
      "text/html": [
       "<div>\n",
       "<style scoped>\n",
       "    .dataframe tbody tr th:only-of-type {\n",
       "        vertical-align: middle;\n",
       "    }\n",
       "\n",
       "    .dataframe tbody tr th {\n",
       "        vertical-align: top;\n",
       "    }\n",
       "\n",
       "    .dataframe thead th {\n",
       "        text-align: right;\n",
       "    }\n",
       "</style>\n",
       "<table border=\"1\" class=\"dataframe\">\n",
       "  <thead>\n",
       "    <tr style=\"text-align: right;\">\n",
       "      <th></th>\n",
       "      <th>model</th>\n",
       "      <th>F1</th>\n",
       "      <th>params</th>\n",
       "    </tr>\n",
       "  </thead>\n",
       "  <tbody>\n",
       "    <tr>\n",
       "      <th>0</th>\n",
       "      <td>LogisticRegression()</td>\n",
       "      <td>0.669856</td>\n",
       "      <td>{'C': 1000.0, 'max_iter': 50000, 'penalty': 'l...</td>\n",
       "    </tr>\n",
       "    <tr>\n",
       "      <th>1</th>\n",
       "      <td>SVC()</td>\n",
       "      <td>0.559742</td>\n",
       "      <td>{'C': 100, 'max_iter': 20000, 'random_state': 0}</td>\n",
       "    </tr>\n",
       "    <tr>\n",
       "      <th>2</th>\n",
       "      <td>LinearSVC()</td>\n",
       "      <td>0.599394</td>\n",
       "      <td>{'C': 100, 'max_iter': 20000, 'random_state': 0}</td>\n",
       "    </tr>\n",
       "    <tr>\n",
       "      <th>3</th>\n",
       "      <td>GaussianNB()</td>\n",
       "      <td>0.686207</td>\n",
       "      <td>{'var_smoothing': 2.310129700083158e-08}</td>\n",
       "    </tr>\n",
       "    <tr>\n",
       "      <th>4</th>\n",
       "      <td>RandomForestClassifier()</td>\n",
       "      <td>0.756522</td>\n",
       "      <td>{'bootstrap': True, 'max_depth': 10, 'min_samp...</td>\n",
       "    </tr>\n",
       "    <tr>\n",
       "      <th>5</th>\n",
       "      <td>KNeighborsClassifier()</td>\n",
       "      <td>0.468434</td>\n",
       "      <td>{'metric': 'euclidean', 'n_neighbors': 5, 'wei...</td>\n",
       "    </tr>\n",
       "  </tbody>\n",
       "</table>\n",
       "</div>"
      ],
      "text/plain": [
       "                      model        F1  \\\n",
       "0      LogisticRegression()  0.669856   \n",
       "1                     SVC()  0.559742   \n",
       "2               LinearSVC()  0.599394   \n",
       "3              GaussianNB()  0.686207   \n",
       "4  RandomForestClassifier()  0.756522   \n",
       "5    KNeighborsClassifier()  0.468434   \n",
       "\n",
       "                                              params  \n",
       "0  {'C': 1000.0, 'max_iter': 50000, 'penalty': 'l...  \n",
       "1   {'C': 100, 'max_iter': 20000, 'random_state': 0}  \n",
       "2   {'C': 100, 'max_iter': 20000, 'random_state': 0}  \n",
       "3           {'var_smoothing': 2.310129700083158e-08}  \n",
       "4  {'bootstrap': True, 'max_depth': 10, 'min_samp...  \n",
       "5  {'metric': 'euclidean', 'n_neighbors': 5, 'wei...  "
      ]
     },
     "execution_count": 104,
     "metadata": {},
     "output_type": "execute_result"
    }
   ],
   "source": [
    "search_results"
   ]
  },
  {
   "cell_type": "markdown",
   "id": "f1fb41bd-b1d2-404c-9a98-6579c1a8ec63",
   "metadata": {},
   "source": [
    "### Scratch LogReg"
   ]
  },
  {
   "cell_type": "code",
   "execution_count": 58,
   "id": "31118247-f5ec-4075-be38-a130b1efb1cc",
   "metadata": {},
   "outputs": [
    {
     "data": {
      "text/plain": [
       "'Successfully fit Logistic Regression model to input data.'"
      ]
     },
     "execution_count": 58,
     "metadata": {},
     "output_type": "execute_result"
    }
   ],
   "source": [
    "scratch_lr = ScratchLogisticRegression(n_iters=1200)\n",
    "scratch_lr.fit(X_train, y_train, X_test, y_test)"
   ]
  },
  {
   "cell_type": "code",
   "execution_count": 60,
   "id": "0ea1e177-6f97-47c7-a50d-83ae8f24b166",
   "metadata": {},
   "outputs": [
    {
     "data": {
      "text/plain": [
       "[1, 0, 1, 1, 1]"
      ]
     },
     "execution_count": 60,
     "metadata": {},
     "output_type": "execute_result"
    }
   ],
   "source": [
    "scratch_preds = scratch_lr.predict(X_test)\n",
    "scratch_preds[:5]"
   ]
  },
  {
   "cell_type": "code",
   "execution_count": 61,
   "id": "72791786-ffa8-4b3f-965a-4ed8a9d3dd75",
   "metadata": {},
   "outputs": [
    {
     "data": {
      "text/plain": [
       "-0.36575377369389334"
      ]
     },
     "execution_count": 61,
     "metadata": {},
     "output_type": "execute_result"
    }
   ],
   "source": [
    "scratch_lr.bias"
   ]
  },
  {
   "cell_type": "code",
   "execution_count": 63,
   "id": "fba1ba99-fcb0-4ff3-8bf7-f362314c29fa",
   "metadata": {},
   "outputs": [
    {
     "data": {
      "text/html": [
       "<div>\n",
       "<style scoped>\n",
       "    .dataframe tbody tr th:only-of-type {\n",
       "        vertical-align: middle;\n",
       "    }\n",
       "\n",
       "    .dataframe tbody tr th {\n",
       "        vertical-align: top;\n",
       "    }\n",
       "\n",
       "    .dataframe thead th {\n",
       "        text-align: right;\n",
       "    }\n",
       "</style>\n",
       "<table border=\"1\" class=\"dataframe\">\n",
       "  <thead>\n",
       "    <tr style=\"text-align: right;\">\n",
       "      <th></th>\n",
       "      <th>Metric</th>\n",
       "      <th>Value</th>\n",
       "    </tr>\n",
       "  </thead>\n",
       "  <tbody>\n",
       "    <tr>\n",
       "      <th>0</th>\n",
       "      <td>Accuracy</td>\n",
       "      <td>39.53%</td>\n",
       "    </tr>\n",
       "    <tr>\n",
       "      <th>1</th>\n",
       "      <td>Precision</td>\n",
       "      <td>39.02%</td>\n",
       "    </tr>\n",
       "    <tr>\n",
       "      <th>2</th>\n",
       "      <td>Recall</td>\n",
       "      <td>94.12%</td>\n",
       "    </tr>\n",
       "    <tr>\n",
       "      <th>3</th>\n",
       "      <td>F1 Score</td>\n",
       "      <td>27.59%</td>\n",
       "    </tr>\n",
       "  </tbody>\n",
       "</table>\n",
       "</div>"
      ],
      "text/plain": [
       "      Metric   Value\n",
       "0   Accuracy  39.53%\n",
       "1  Precision  39.02%\n",
       "2     Recall  94.12%\n",
       "3   F1 Score  27.59%"
      ]
     },
     "execution_count": 63,
     "metadata": {},
     "output_type": "execute_result"
    }
   ],
   "source": [
    "scratch_lr.metrics(X_test, y_test, scratch_preds)"
   ]
  },
  {
   "cell_type": "code",
   "execution_count": 66,
   "id": "c576fe27-980d-4972-ba91-f06055109303",
   "metadata": {},
   "outputs": [
    {
     "data": {
      "text/html": [
       "<div>\n",
       "<style scoped>\n",
       "    .dataframe tbody tr th:only-of-type {\n",
       "        vertical-align: middle;\n",
       "    }\n",
       "\n",
       "    .dataframe tbody tr th {\n",
       "        vertical-align: top;\n",
       "    }\n",
       "\n",
       "    .dataframe thead th {\n",
       "        text-align: right;\n",
       "    }\n",
       "</style>\n",
       "<table border=\"1\" class=\"dataframe\">\n",
       "  <thead>\n",
       "    <tr style=\"text-align: right;\">\n",
       "      <th></th>\n",
       "      <th>Metric</th>\n",
       "      <th>Value</th>\n",
       "    </tr>\n",
       "  </thead>\n",
       "  <tbody>\n",
       "    <tr>\n",
       "      <th>0</th>\n",
       "      <td>Accuracy</td>\n",
       "      <td>48.84%</td>\n",
       "    </tr>\n",
       "    <tr>\n",
       "      <th>1</th>\n",
       "      <td>Precision</td>\n",
       "      <td>40.0%</td>\n",
       "    </tr>\n",
       "    <tr>\n",
       "      <th>2</th>\n",
       "      <td>Recall</td>\n",
       "      <td>58.82%</td>\n",
       "    </tr>\n",
       "    <tr>\n",
       "      <th>3</th>\n",
       "      <td>F1 Score</td>\n",
       "      <td>23.81%</td>\n",
       "    </tr>\n",
       "  </tbody>\n",
       "</table>\n",
       "</div>"
      ],
      "text/plain": [
       "      Metric   Value\n",
       "0   Accuracy  48.84%\n",
       "1  Precision   40.0%\n",
       "2     Recall  58.82%\n",
       "3   F1 Score  23.81%"
      ]
     },
     "execution_count": 66,
     "metadata": {},
     "output_type": "execute_result"
    }
   ],
   "source": [
    "baseline_preds = scratch_lr.baseline(X_test)\n",
    "scratch_lr.metrics(X_test, y_test, baseline_preds)"
   ]
  },
  {
   "cell_type": "code",
   "execution_count": 75,
   "id": "08b3a3b8-0b0b-4ab5-9ffd-dc0d36fe0fc9",
   "metadata": {},
   "outputs": [
    {
     "data": {
      "image/png": "[encoded data removed]",
      "text/plain": [
       "<Figure size 432x288 with 1 Axes>"
      ]
     },
     "metadata": {
      "needs_background": "light"
     },
     "output_type": "display_data"
    },
    {
     "data": {
      "text/plain": [
       "'Final Training Error: 0.76, Final Test Error: 0.77'"
      ]
     },
     "execution_count": 75,
     "metadata": {},
     "output_type": "execute_result"
    }
   ],
   "source": [
    "scratch_lr.plot_loss()"
   ]
  },
  {
   "cell_type": "code",
   "execution_count": 76,
   "id": "a434a52b-ce63-45d1-856c-e6d221ff7564",
   "metadata": {},
   "outputs": [
    {
     "data": {
      "text/html": [
       "<div>\n",
       "<style scoped>\n",
       "    .dataframe tbody tr th:only-of-type {\n",
       "        vertical-align: middle;\n",
       "    }\n",
       "\n",
       "    .dataframe tbody tr th {\n",
       "        vertical-align: top;\n",
       "    }\n",
       "\n",
       "    .dataframe thead th {\n",
       "        text-align: right;\n",
       "    }\n",
       "</style>\n",
       "<table border=\"1\" class=\"dataframe\">\n",
       "  <thead>\n",
       "    <tr style=\"text-align: right;\">\n",
       "      <th></th>\n",
       "      <th>Index</th>\n",
       "      <th></th>\n",
       "      <th>Actual</th>\n",
       "    </tr>\n",
       "  </thead>\n",
       "  <tbody>\n",
       "    <tr>\n",
       "      <th>0</th>\n",
       "      <td>Predicted</td>\n",
       "      <td>True</td>\n",
       "      <td>False</td>\n",
       "    </tr>\n",
       "    <tr>\n",
       "      <th>1</th>\n",
       "      <td>True</td>\n",
       "      <td>10</td>\n",
       "      <td>15</td>\n",
       "    </tr>\n",
       "    <tr>\n",
       "      <th>2</th>\n",
       "      <td>False</td>\n",
       "      <td>7</td>\n",
       "      <td>11</td>\n",
       "    </tr>\n",
       "  </tbody>\n",
       "</table>\n",
       "</div>"
      ],
      "text/plain": [
       "       Index       Actual \n",
       "0  Predicted  True   False\n",
       "1       True    10      15\n",
       "2      False     7      11"
      ]
     },
     "execution_count": 76,
     "metadata": {},
     "output_type": "execute_result"
    }
   ],
   "source": [
    "scratch_lr.confusion_matrix(X_test, y_test)"
   ]
  },
  {
   "cell_type": "code",
   "execution_count": 77,
   "id": "6004128a-d4be-4eca-93d7-5735c4b0b2d5",
   "metadata": {},
   "outputs": [
    {
     "data": {
      "text/plain": [
       "['danceability',\n",
       " 'instrumentalness',\n",
       " 'total_words',\n",
       " 'mode',\n",
       " 'key_6',\n",
       " 'key_9',\n",
       " 'key_10',\n",
       " 'key_11']"
      ]
     },
     "execution_count": 77,
     "metadata": {},
     "output_type": "execute_result"
    }
   ],
   "source": [
    "scratch_lr.feature_names_in_"
   ]
  },
  {
   "cell_type": "code",
   "execution_count": 78,
   "id": "2e22362f-7f2d-4353-ac65-05ade4602428",
   "metadata": {},
   "outputs": [
    {
     "data": {
      "text/html": [
       "<div>\n",
       "<style scoped>\n",
       "    .dataframe tbody tr th:only-of-type {\n",
       "        vertical-align: middle;\n",
       "    }\n",
       "\n",
       "    .dataframe tbody tr th {\n",
       "        vertical-align: top;\n",
       "    }\n",
       "\n",
       "    .dataframe thead th {\n",
       "        text-align: right;\n",
       "    }\n",
       "</style>\n",
       "<table border=\"1\" class=\"dataframe\">\n",
       "  <thead>\n",
       "    <tr style=\"text-align: right;\">\n",
       "      <th></th>\n",
       "      <th>feature</th>\n",
       "      <th>abs_weight</th>\n",
       "    </tr>\n",
       "  </thead>\n",
       "  <tbody>\n",
       "    <tr>\n",
       "      <th>3</th>\n",
       "      <td>mode</td>\n",
       "      <td>0.229493</td>\n",
       "    </tr>\n",
       "    <tr>\n",
       "      <th>0</th>\n",
       "      <td>danceability</td>\n",
       "      <td>0.360569</td>\n",
       "    </tr>\n",
       "    <tr>\n",
       "      <th>6</th>\n",
       "      <td>key_10</td>\n",
       "      <td>0.403737</td>\n",
       "    </tr>\n",
       "    <tr>\n",
       "      <th>4</th>\n",
       "      <td>key_6</td>\n",
       "      <td>0.433671</td>\n",
       "    </tr>\n",
       "    <tr>\n",
       "      <th>2</th>\n",
       "      <td>total_words</td>\n",
       "      <td>0.482534</td>\n",
       "    </tr>\n",
       "    <tr>\n",
       "      <th>5</th>\n",
       "      <td>key_9</td>\n",
       "      <td>0.623638</td>\n",
       "    </tr>\n",
       "    <tr>\n",
       "      <th>1</th>\n",
       "      <td>instrumentalness</td>\n",
       "      <td>0.721409</td>\n",
       "    </tr>\n",
       "    <tr>\n",
       "      <th>7</th>\n",
       "      <td>key_11</td>\n",
       "      <td>0.810593</td>\n",
       "    </tr>\n",
       "  </tbody>\n",
       "</table>\n",
       "</div>"
      ],
      "text/plain": [
       "            feature  abs_weight\n",
       "3              mode    0.229493\n",
       "0      danceability    0.360569\n",
       "6            key_10    0.403737\n",
       "4             key_6    0.433671\n",
       "2       total_words    0.482534\n",
       "5             key_9    0.623638\n",
       "1  instrumentalness    0.721409\n",
       "7            key_11    0.810593"
      ]
     },
     "execution_count": 78,
     "metadata": {},
     "output_type": "execute_result"
    }
   ],
   "source": [
    "feature_weights = DataFrame({'feature' : features.columns, 'abs_weight' : abs(scratch_lr.weights)})\n",
    "feature_weights.sort_values(by='abs_weight', ascending=True, inplace=True)\n",
    "feature_weights"
   ]
  },
  {
   "cell_type": "markdown",
   "id": "9c0b6494-776c-4458-b5a9-57b8d50c0f5f",
   "metadata": {},
   "source": [
    "### Comparison Model Building and Evaluation\n",
    "Manually optimized Random Forest and KNN"
   ]
  },
  {
   "cell_type": "code",
   "execution_count": 79,
   "id": "b18f219b-bce1-45cf-b0e7-64ea8bffc6be",
   "metadata": {},
   "outputs": [],
   "source": [
    "models = ['LR', 'SVC', 'LinearSVC', 'Naive Bayes', 'Random Forest', 'KNN', 'Optimized LR']"
   ]
  },
  {
   "cell_type": "code",
   "execution_count": 80,
   "id": "4b16f557-ea95-48e4-a411-d1692a2c3308",
   "metadata": {},
   "outputs": [],
   "source": [
    "models = [LogisticRegression(C=10, max_iter=10000, penalty='l2'),\n",
    "\t\t SVC(C=100, max_iter=20000, random_state=0),\n",
    "\t\t LinearSVC(C=0.1, max_iter=20000, random_state=0),\n",
    "\t\t GaussianNB(var_smoothing=2.848035868435799e-07),\n",
    "\t\t RandomForestClassifier(max_depth=10, bootstrap=True, min_samples_split=2, random_state=0),\n",
    "\t\t KNeighborsClassifier(),\n",
    "\t\t LogisticRegression(C=200.0, max_iter=10000, penalty='l1',\n",
    "\t\t\t\t\t\trandom_state=0, solver='liblinear')\n",
    "]"
   ]
  },
  {
   "cell_type": "code",
   "execution_count": 81,
   "id": "e7dfefc1-9849-4cf3-8621-215c5db01155",
   "metadata": {},
   "outputs": [],
   "source": [
    "acc, f1, precision, recall = [], [], [], []"
   ]
  },
  {
   "cell_type": "code",
   "execution_count": 82,
   "id": "f7f9d3d6-ad7f-4af6-9968-da7f68fb7a02",
   "metadata": {},
   "outputs": [
    {
     "name": "stdout",
     "output_type": "stream",
     "text": [
      "All models scored\n"
     ]
    }
   ],
   "source": [
    "for model in models:\n",
    "\tmodel = model.fit(X_train, y_train)\n",
    "\tpreds = model.predict(X_test)\n",
    "\t\n",
    "\tacc_temp, f1_temp, precision_temp, recall_temp = \\\n",
    "\taccuracy_score(preds, y_test), f1_score(preds, y_test), \\\n",
    "\tprecision_score(preds, y_test), recall_score(preds, y_test)\n",
    "\t\n",
    "\tacc.append(acc_temp)\n",
    "\tf1.append(f1_temp)\n",
    "\tprecision.append(precision_temp)\n",
    "\trecall.append(recall_temp)\n",
    "\t\n",
    "print('All models scored')"
   ]
  },
  {
   "cell_type": "markdown",
   "id": "18e2a944-214a-4215-adc5-487f333376a0",
   "metadata": {},
   "source": [
    "### Model Metrics"
   ]
  },
  {
   "cell_type": "code",
   "execution_count": 83,
   "id": "0c2c5ad3-3dde-423e-a690-36998dcb0bc0",
   "metadata": {},
   "outputs": [],
   "source": [
    "model_results = DataFrame({'model': models, 'accuracy': acc,\n",
    "\t\t\t\t\t\t\t'f1': f1, 'precision': precision, 'recall': recall})"
   ]
  },
  {
   "cell_type": "code",
   "execution_count": 84,
   "id": "05dc5fb4-4831-4639-ad04-afc6e33ae47f",
   "metadata": {},
   "outputs": [
    {
     "data": {
      "text/html": [
       "<div>\n",
       "<style scoped>\n",
       "    .dataframe tbody tr th:only-of-type {\n",
       "        vertical-align: middle;\n",
       "    }\n",
       "\n",
       "    .dataframe tbody tr th {\n",
       "        vertical-align: top;\n",
       "    }\n",
       "\n",
       "    .dataframe thead th {\n",
       "        text-align: right;\n",
       "    }\n",
       "</style>\n",
       "<table border=\"1\" class=\"dataframe\">\n",
       "  <thead>\n",
       "    <tr style=\"text-align: right;\">\n",
       "      <th></th>\n",
       "      <th>model</th>\n",
       "      <th>accuracy</th>\n",
       "      <th>f1</th>\n",
       "      <th>precision</th>\n",
       "      <th>recall</th>\n",
       "    </tr>\n",
       "  </thead>\n",
       "  <tbody>\n",
       "    <tr>\n",
       "      <th>0</th>\n",
       "      <td>LogisticRegression(C=10, max_iter=10000)</td>\n",
       "      <td>0.651163</td>\n",
       "      <td>0.400000</td>\n",
       "      <td>0.294118</td>\n",
       "      <td>0.625000</td>\n",
       "    </tr>\n",
       "    <tr>\n",
       "      <th>1</th>\n",
       "      <td>SVC(C=100, max_iter=20000, random_state=0)</td>\n",
       "      <td>0.627907</td>\n",
       "      <td>0.529412</td>\n",
       "      <td>0.529412</td>\n",
       "      <td>0.529412</td>\n",
       "    </tr>\n",
       "    <tr>\n",
       "      <th>2</th>\n",
       "      <td>LinearSVC(C=0.1, max_iter=20000, random_state=0)</td>\n",
       "      <td>0.674419</td>\n",
       "      <td>0.363636</td>\n",
       "      <td>0.235294</td>\n",
       "      <td>0.800000</td>\n",
       "    </tr>\n",
       "    <tr>\n",
       "      <th>3</th>\n",
       "      <td>GaussianNB(var_smoothing=2.848035868435799e-07)</td>\n",
       "      <td>0.697674</td>\n",
       "      <td>0.606061</td>\n",
       "      <td>0.588235</td>\n",
       "      <td>0.625000</td>\n",
       "    </tr>\n",
       "    <tr>\n",
       "      <th>4</th>\n",
       "      <td>(DecisionTreeClassifier(max_depth=10, max_feat...</td>\n",
       "      <td>0.790698</td>\n",
       "      <td>0.709677</td>\n",
       "      <td>0.647059</td>\n",
       "      <td>0.785714</td>\n",
       "    </tr>\n",
       "    <tr>\n",
       "      <th>5</th>\n",
       "      <td>KNeighborsClassifier()</td>\n",
       "      <td>0.651163</td>\n",
       "      <td>0.444444</td>\n",
       "      <td>0.352941</td>\n",
       "      <td>0.600000</td>\n",
       "    </tr>\n",
       "    <tr>\n",
       "      <th>6</th>\n",
       "      <td>LogisticRegression(C=200.0, max_iter=10000, pe...</td>\n",
       "      <td>0.767442</td>\n",
       "      <td>0.642857</td>\n",
       "      <td>0.529412</td>\n",
       "      <td>0.818182</td>\n",
       "    </tr>\n",
       "  </tbody>\n",
       "</table>\n",
       "</div>"
      ],
      "text/plain": [
       "                                               model  accuracy        f1  \\\n",
       "0           LogisticRegression(C=10, max_iter=10000)  0.651163  0.400000   \n",
       "1         SVC(C=100, max_iter=20000, random_state=0)  0.627907  0.529412   \n",
       "2   LinearSVC(C=0.1, max_iter=20000, random_state=0)  0.674419  0.363636   \n",
       "3    GaussianNB(var_smoothing=2.848035868435799e-07)  0.697674  0.606061   \n",
       "4  (DecisionTreeClassifier(max_depth=10, max_feat...  0.790698  0.709677   \n",
       "5                             KNeighborsClassifier()  0.651163  0.444444   \n",
       "6  LogisticRegression(C=200.0, max_iter=10000, pe...  0.767442  0.642857   \n",
       "\n",
       "   precision    recall  \n",
       "0   0.294118  0.625000  \n",
       "1   0.529412  0.529412  \n",
       "2   0.235294  0.800000  \n",
       "3   0.588235  0.625000  \n",
       "4   0.647059  0.785714  \n",
       "5   0.352941  0.600000  \n",
       "6   0.529412  0.818182  "
      ]
     },
     "execution_count": 84,
     "metadata": {},
     "output_type": "execute_result"
    }
   ],
   "source": [
    "model_results"
   ]
  }
 ],
 "metadata": {
  "kernelspec": {
   "display_name": "Python 3 (ipykernel)",
   "language": "python",
   "name": "python3"
  },
  "language_info": {
   "codemirror_mode": {
    "name": "ipython",
    "version": 3
   },
   "file_extension": ".py",
   "mimetype": "text/x-python",
   "name": "python",
   "nbconvert_exporter": "python",
   "pygments_lexer": "ipython3",
   "version": "3.8.13"
  },
  "vscode": {
   "interpreter": {
    "hash": "fa8fba2ba956a6b92dce1f77645742a181fb84294b2aaeda6d92449f2e12b87a"
   }
  }
 },
 "nbformat": 4,
 "nbformat_minor": 5
}
