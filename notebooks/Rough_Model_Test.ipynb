{
 "cells": [
  {
   "cell_type": "markdown",
   "id": "59aa3295",
   "metadata": {
    "tags": []
   },
   "source": [
    "# FOB Test of Rough LR Model Implementation\n",
    "To Do:\n",
    "- WHAT'S WRONG WITH THIS LOSS FUNCTION?\n",
    "- Fix Divide by 0 Errors in loss function"
   ]
  },
  {
   "cell_type": "markdown",
   "id": "19ec0d84",
   "metadata": {},
   "source": [
    "## Setup and Library Imports"
   ]
  },
  {
   "cell_type": "code",
   "execution_count": 1,
   "id": "003473d2-db4c-43ad-a2d6-59d05470439a",
   "metadata": {},
   "outputs": [
    {
     "name": "stdout",
     "output_type": "stream",
     "text": [
      "/Users/shifraisaacs/Documents/GH/FOB_LR\n"
     ]
    }
   ],
   "source": [
    "cd '/Users/shifraisaacs/Documents/GH/FOB_LR'"
   ]
  },
  {
   "cell_type": "code",
   "execution_count": 2,
   "id": "10519775",
   "metadata": {},
   "outputs": [],
   "source": [
    "import sys\n",
    "import pandas as pd\n",
    "from pandas import DataFrame\n",
    "import numpy as np\n",
    "import matplotlib\n",
    "from matplotlib import pyplot as plt\n",
    "%matplotlib inline\n",
    "from sklearn.model_selection import train_test_split"
   ]
  },
  {
   "cell_type": "code",
   "execution_count": 3,
   "id": "8d202d3a-3526-4fce-95ad-7110e25fec2a",
   "metadata": {},
   "outputs": [],
   "source": [
    "# Import Logistic Regression class from models/LR.py\n",
    "sys.path.insert(0, 'models')\n",
    "from LR import ScratchLogisticRegression"
   ]
  },
  {
   "cell_type": "code",
   "execution_count": 4,
   "id": "95a59bef",
   "metadata": {},
   "outputs": [],
   "source": [
    "# Display entire dataframe\n",
    "pd.set_option('display.max_rows', None)\n",
    "pd.set_option('display.max_columns', None)\n",
    "pd.set_option('display.width', None)"
   ]
  },
  {
   "cell_type": "markdown",
   "id": "274a132e-3cc5-41fa-91ea-1f523e5b353d",
   "metadata": {},
   "source": [
    "### Load Data"
   ]
  },
  {
   "cell_type": "code",
   "execution_count": 5,
   "id": "4bce1f0a-051c-4446-8e81-2199116506ca",
   "metadata": {
    "tags": []
   },
   "outputs": [
    {
     "data": {
      "text/html": [
       "<div>\n",
       "<style scoped>\n",
       "    .dataframe tbody tr th:only-of-type {\n",
       "        vertical-align: middle;\n",
       "    }\n",
       "\n",
       "    .dataframe tbody tr th {\n",
       "        vertical-align: top;\n",
       "    }\n",
       "\n",
       "    .dataframe thead th {\n",
       "        text-align: right;\n",
       "    }\n",
       "</style>\n",
       "<table border=\"1\" class=\"dataframe\">\n",
       "  <thead>\n",
       "    <tr style=\"text-align: right;\">\n",
       "      <th></th>\n",
       "      <th>instrumentalness</th>\n",
       "      <th>valence</th>\n",
       "      <th>total_words</th>\n",
       "      <th>duration_min</th>\n",
       "      <th>key_0</th>\n",
       "      <th>key_6</th>\n",
       "      <th>key_10</th>\n",
       "      <th>key_11</th>\n",
       "      <th>mode_minor</th>\n",
       "      <th>mode_major</th>\n",
       "      <th>class</th>\n",
       "    </tr>\n",
       "  </thead>\n",
       "  <tbody>\n",
       "    <tr>\n",
       "      <th>0</th>\n",
       "      <td>0.000000</td>\n",
       "      <td>0.374</td>\n",
       "      <td>201</td>\n",
       "      <td>3.43</td>\n",
       "      <td>0.0</td>\n",
       "      <td>0.0</td>\n",
       "      <td>0.0</td>\n",
       "      <td>0.0</td>\n",
       "      <td>0.0</td>\n",
       "      <td>1.0</td>\n",
       "      <td>0</td>\n",
       "    </tr>\n",
       "    <tr>\n",
       "      <th>1</th>\n",
       "      <td>0.000251</td>\n",
       "      <td>0.464</td>\n",
       "      <td>289</td>\n",
       "      <td>4.73</td>\n",
       "      <td>0.0</td>\n",
       "      <td>0.0</td>\n",
       "      <td>0.0</td>\n",
       "      <td>0.0</td>\n",
       "      <td>0.0</td>\n",
       "      <td>1.0</td>\n",
       "      <td>0</td>\n",
       "    </tr>\n",
       "    <tr>\n",
       "      <th>2</th>\n",
       "      <td>0.000003</td>\n",
       "      <td>0.336</td>\n",
       "      <td>165</td>\n",
       "      <td>3.24</td>\n",
       "      <td>0.0</td>\n",
       "      <td>0.0</td>\n",
       "      <td>0.0</td>\n",
       "      <td>1.0</td>\n",
       "      <td>0.0</td>\n",
       "      <td>1.0</td>\n",
       "      <td>0</td>\n",
       "    </tr>\n",
       "    <tr>\n",
       "      <th>3</th>\n",
       "      <td>0.000000</td>\n",
       "      <td>0.268</td>\n",
       "      <td>249</td>\n",
       "      <td>3.62</td>\n",
       "      <td>0.0</td>\n",
       "      <td>0.0</td>\n",
       "      <td>0.0</td>\n",
       "      <td>0.0</td>\n",
       "      <td>0.0</td>\n",
       "      <td>1.0</td>\n",
       "      <td>0</td>\n",
       "    </tr>\n",
       "    <tr>\n",
       "      <th>4</th>\n",
       "      <td>0.000000</td>\n",
       "      <td>0.408</td>\n",
       "      <td>174</td>\n",
       "      <td>2.82</td>\n",
       "      <td>1.0</td>\n",
       "      <td>0.0</td>\n",
       "      <td>0.0</td>\n",
       "      <td>0.0</td>\n",
       "      <td>0.0</td>\n",
       "      <td>1.0</td>\n",
       "      <td>0</td>\n",
       "    </tr>\n",
       "  </tbody>\n",
       "</table>\n",
       "</div>"
      ],
      "text/plain": [
       "   instrumentalness  valence  total_words  duration_min  key_0  key_6  key_10  \\\n",
       "0          0.000000    0.374          201          3.43    0.0    0.0     0.0   \n",
       "1          0.000251    0.464          289          4.73    0.0    0.0     0.0   \n",
       "2          0.000003    0.336          165          3.24    0.0    0.0     0.0   \n",
       "3          0.000000    0.268          249          3.62    0.0    0.0     0.0   \n",
       "4          0.000000    0.408          174          2.82    1.0    0.0     0.0   \n",
       "\n",
       "   key_11  mode_minor  mode_major  class  \n",
       "0     0.0         0.0         1.0      0  \n",
       "1     0.0         0.0         1.0      0  \n",
       "2     1.0         0.0         1.0      0  \n",
       "3     0.0         0.0         1.0      0  \n",
       "4     0.0         0.0         1.0      0  "
      ]
     },
     "execution_count": 5,
     "metadata": {},
     "output_type": "execute_result"
    }
   ],
   "source": [
    "features = pd.read_csv('data/processed/features_encoded.csv', index_col=0)\n",
    "features.head()"
   ]
  },
  {
   "cell_type": "markdown",
   "id": "143d2429-64f1-4146-a6a3-b6e0cb266036",
   "metadata": {},
   "source": [
    "### Rough Model Test"
   ]
  },
  {
   "cell_type": "code",
   "execution_count": 6,
   "id": "da328cd4-025c-466d-8132-d380877bb5b0",
   "metadata": {},
   "outputs": [],
   "source": [
    "y = features.pop('class')"
   ]
  },
  {
   "cell_type": "code",
   "execution_count": 7,
   "id": "0f3ceae4-c0a4-4244-8088-a6b48fa59e48",
   "metadata": {},
   "outputs": [
    {
     "data": {
      "text/plain": [
       "45    0\n",
       "60    0\n",
       "7     0\n",
       "51    0\n",
       "66    0\n",
       "Name: class, dtype: int64"
      ]
     },
     "execution_count": 7,
     "metadata": {},
     "output_type": "execute_result"
    }
   ],
   "source": [
    "X_train, X_test, y_train, y_test = train_test_split(features, y, test_size=0.3, random_state=0)\n",
    "y_test[:5]"
   ]
  },
  {
   "cell_type": "code",
   "execution_count": 8,
   "id": "2cdba5aa-9bba-40b3-9c3c-bcec54c196fd",
   "metadata": {},
   "outputs": [
    {
     "name": "stdout",
     "output_type": "stream",
     "text": [
      "Successfully fit Logistic Regression model to input data.\n"
     ]
    }
   ],
   "source": [
    "lr = ScratchLogisticRegression()\n",
    "lr.fit(X_train, y_train)"
   ]
  },
  {
   "cell_type": "code",
   "execution_count": 9,
   "id": "605e6258-c2d0-4adb-82ab-b84b19f27ffe",
   "metadata": {},
   "outputs": [
    {
     "data": {
      "text/plain": [
       "[0, 0, 0, 0, 0]"
      ]
     },
     "execution_count": 9,
     "metadata": {},
     "output_type": "execute_result"
    }
   ],
   "source": [
    "predictions = lr.predict(X_test)\n",
    "predictions[:5]"
   ]
  },
  {
   "cell_type": "code",
   "execution_count": 10,
   "id": "c2d6beb6-1112-4c34-9c4e-b3586390ca59",
   "metadata": {},
   "outputs": [
    {
     "data": {
      "text/html": [
       "<div>\n",
       "<style scoped>\n",
       "    .dataframe tbody tr th:only-of-type {\n",
       "        vertical-align: middle;\n",
       "    }\n",
       "\n",
       "    .dataframe tbody tr th {\n",
       "        vertical-align: top;\n",
       "    }\n",
       "\n",
       "    .dataframe thead th {\n",
       "        text-align: right;\n",
       "    }\n",
       "</style>\n",
       "<table border=\"1\" class=\"dataframe\">\n",
       "  <thead>\n",
       "    <tr style=\"text-align: right;\">\n",
       "      <th></th>\n",
       "      <th>Metric</th>\n",
       "      <th>Value</th>\n",
       "    </tr>\n",
       "  </thead>\n",
       "  <tbody>\n",
       "    <tr>\n",
       "      <th>0</th>\n",
       "      <td>Accuracy</td>\n",
       "      <td>63.0%</td>\n",
       "    </tr>\n",
       "    <tr>\n",
       "      <th>1</th>\n",
       "      <td>Precision</td>\n",
       "      <td>100.0%</td>\n",
       "    </tr>\n",
       "    <tr>\n",
       "      <th>2</th>\n",
       "      <td>Recall</td>\n",
       "      <td>5.88%</td>\n",
       "    </tr>\n",
       "    <tr>\n",
       "      <th>3</th>\n",
       "      <td>F1 Score</td>\n",
       "      <td>5.56%</td>\n",
       "    </tr>\n",
       "  </tbody>\n",
       "</table>\n",
       "</div>"
      ],
      "text/plain": [
       "      Metric   Value\n",
       "0   Accuracy   63.0%\n",
       "1  Precision  100.0%\n",
       "2     Recall   5.88%\n",
       "3   F1 Score   5.56%"
      ]
     },
     "execution_count": 10,
     "metadata": {},
     "output_type": "execute_result"
    }
   ],
   "source": [
    "lr.metrics(y_test)"
   ]
  },
  {
   "cell_type": "code",
   "execution_count": 11,
   "id": "fb9f11f2-b0c3-4759-ba43-6b9d3f54b0f4",
   "metadata": {},
   "outputs": [
    {
     "data": {
      "text/html": [
       "<div>\n",
       "<style scoped>\n",
       "    .dataframe tbody tr th:only-of-type {\n",
       "        vertical-align: middle;\n",
       "    }\n",
       "\n",
       "    .dataframe tbody tr th {\n",
       "        vertical-align: top;\n",
       "    }\n",
       "\n",
       "    .dataframe thead th {\n",
       "        text-align: right;\n",
       "    }\n",
       "</style>\n",
       "<table border=\"1\" class=\"dataframe\">\n",
       "  <thead>\n",
       "    <tr style=\"text-align: right;\">\n",
       "      <th></th>\n",
       "      <th></th>\n",
       "      <th>Actual</th>\n",
       "    </tr>\n",
       "    <tr>\n",
       "      <th>Index</th>\n",
       "      <th></th>\n",
       "      <th></th>\n",
       "    </tr>\n",
       "  </thead>\n",
       "  <tbody>\n",
       "    <tr>\n",
       "      <th>Predicted</th>\n",
       "      <td>True</td>\n",
       "      <td>False</td>\n",
       "    </tr>\n",
       "    <tr>\n",
       "      <th>True</th>\n",
       "      <td>1</td>\n",
       "      <td>0</td>\n",
       "    </tr>\n",
       "    <tr>\n",
       "      <th>False</th>\n",
       "      <td>16</td>\n",
       "      <td>26</td>\n",
       "    </tr>\n",
       "  </tbody>\n",
       "</table>\n",
       "</div>"
      ],
      "text/plain": [
       "                Actual \n",
       "Index                  \n",
       "Predicted  True   False\n",
       "True          1       0\n",
       "False        16      26"
      ]
     },
     "execution_count": 11,
     "metadata": {},
     "output_type": "execute_result"
    }
   ],
   "source": [
    "lr.confusion_matrix(y_test)"
   ]
  },
  {
   "cell_type": "code",
   "execution_count": 12,
   "id": "cb0f4400-94ed-4588-b744-ef412a458085",
   "metadata": {},
   "outputs": [
    {
     "data": {
      "text/plain": [
       "['instrumentalness',\n",
       " 'valence',\n",
       " 'total_words',\n",
       " 'duration_min',\n",
       " 'key_0',\n",
       " 'key_6',\n",
       " 'key_10',\n",
       " 'key_11',\n",
       " 'mode_minor',\n",
       " 'mode_major']"
      ]
     },
     "execution_count": 12,
     "metadata": {},
     "output_type": "execute_result"
    }
   ],
   "source": [
    "lr.feature_names_in_"
   ]
  },
  {
   "cell_type": "code",
   "execution_count": 13,
   "id": "8bab0b57-4ad3-4730-b39a-24c59cb3d097",
   "metadata": {},
   "outputs": [
    {
     "data": {
      "text/plain": [
       "10"
      ]
     },
     "execution_count": 13,
     "metadata": {},
     "output_type": "execute_result"
    }
   ],
   "source": [
    "lr.n_features_in_"
   ]
  },
  {
   "cell_type": "code",
   "execution_count": 14,
   "id": "be1b5a40-2fb5-4291-8b40-0021d497c374",
   "metadata": {},
   "outputs": [
    {
     "name": "stdout",
     "output_type": "stream",
     "text": [
      "1.3438972638580438\n"
     ]
    },
    {
     "data": {
      "image/png": "[encoded data removed]",
      "text/plain": [
       "<Figure size 432x288 with 1 Axes>"
      ]
     },
     "metadata": {
      "needs_background": "light"
     },
     "output_type": "display_data"
    },
    {
     "data": {
      "text/plain": [
       "'Final Loss: 12.00'"
      ]
     },
     "execution_count": 14,
     "metadata": {},
     "output_type": "execute_result"
    }
   ],
   "source": [
    "print(min(lr.loss_history))\n",
    "lr.plot_loss()"
   ]
  },
  {
   "cell_type": "code",
   "execution_count": 15,
   "id": "6b2326d7-873a-4588-bb39-e627fa81baf9",
   "metadata": {},
   "outputs": [
    {
     "data": {
      "text/html": [
       "<div>\n",
       "<style scoped>\n",
       "    .dataframe tbody tr th:only-of-type {\n",
       "        vertical-align: middle;\n",
       "    }\n",
       "\n",
       "    .dataframe tbody tr th {\n",
       "        vertical-align: top;\n",
       "    }\n",
       "\n",
       "    .dataframe thead th {\n",
       "        text-align: right;\n",
       "    }\n",
       "</style>\n",
       "<table border=\"1\" class=\"dataframe\">\n",
       "  <thead>\n",
       "    <tr style=\"text-align: right;\">\n",
       "      <th></th>\n",
       "      <th>feature</th>\n",
       "      <th>abs_weight</th>\n",
       "    </tr>\n",
       "  </thead>\n",
       "  <tbody>\n",
       "    <tr>\n",
       "      <th>2</th>\n",
       "      <td>total_words</td>\n",
       "      <td>0.028727</td>\n",
       "    </tr>\n",
       "    <tr>\n",
       "      <th>9</th>\n",
       "      <td>mode_major</td>\n",
       "      <td>0.301652</td>\n",
       "    </tr>\n",
       "    <tr>\n",
       "      <th>4</th>\n",
       "      <td>key_0</td>\n",
       "      <td>0.397436</td>\n",
       "    </tr>\n",
       "    <tr>\n",
       "      <th>3</th>\n",
       "      <td>duration_min</td>\n",
       "      <td>0.411693</td>\n",
       "    </tr>\n",
       "    <tr>\n",
       "      <th>6</th>\n",
       "      <td>key_10</td>\n",
       "      <td>0.421152</td>\n",
       "    </tr>\n",
       "    <tr>\n",
       "      <th>0</th>\n",
       "      <td>instrumentalness</td>\n",
       "      <td>0.558846</td>\n",
       "    </tr>\n",
       "    <tr>\n",
       "      <th>5</th>\n",
       "      <td>key_6</td>\n",
       "      <td>0.672230</td>\n",
       "    </tr>\n",
       "    <tr>\n",
       "      <th>1</th>\n",
       "      <td>valence</td>\n",
       "      <td>0.683710</td>\n",
       "    </tr>\n",
       "    <tr>\n",
       "      <th>7</th>\n",
       "      <td>key_11</td>\n",
       "      <td>0.865741</td>\n",
       "    </tr>\n",
       "    <tr>\n",
       "      <th>8</th>\n",
       "      <td>mode_minor</td>\n",
       "      <td>0.996611</td>\n",
       "    </tr>\n",
       "  </tbody>\n",
       "</table>\n",
       "</div>"
      ],
      "text/plain": [
       "            feature  abs_weight\n",
       "2       total_words    0.028727\n",
       "9        mode_major    0.301652\n",
       "4             key_0    0.397436\n",
       "3      duration_min    0.411693\n",
       "6            key_10    0.421152\n",
       "0  instrumentalness    0.558846\n",
       "5             key_6    0.672230\n",
       "1           valence    0.683710\n",
       "7            key_11    0.865741\n",
       "8        mode_minor    0.996611"
      ]
     },
     "execution_count": 15,
     "metadata": {},
     "output_type": "execute_result"
    }
   ],
   "source": [
    "feature_weights = DataFrame({'feature' : features.columns, 'abs_weight' : abs(lr.weights)})\n",
    "feature_weights.sort_values(by='abs_weight', ascending=True, inplace=True)\n",
    "feature_weights"
   ]
  }
 ],
 "metadata": {
  "kernelspec": {
   "display_name": "Python 3 (ipykernel)",
   "language": "python",
   "name": "python3"
  },
  "language_info": {
   "codemirror_mode": {
    "name": "ipython",
    "version": 3
   },
   "file_extension": ".py",
   "mimetype": "text/x-python",
   "name": "python",
   "nbconvert_exporter": "python",
   "pygments_lexer": "ipython3",
   "version": "3.8.8"
  },
  "vscode": {
   "interpreter": {
    "hash": "fa8fba2ba956a6b92dce1f77645742a181fb84294b2aaeda6d92449f2e12b87a"
   }
  }
 },
 "nbformat": 4,
 "nbformat_minor": 5
}
